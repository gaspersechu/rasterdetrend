{
 "cells": [
  {
   "cell_type": "code",
   "execution_count": null,
   "metadata": {},
   "outputs": [],
   "source": [
    "\"\"\"\n",
    "Created on Thu November 10 2022\n",
    "@author: gaspersechu\n",
    "Some code excerpts from: simonfilhol\n",
    "\n",
    "\"\"\"\n",
    "\n",
    "from osgeo import gdal, osr\n",
    "import os\n",
    "import matplotlib.pyplot as plt\n",
    "import numpy as np\n",
    "from scipy.linalg import lstsq"
   ]
  },
  {
   "cell_type": "code",
   "execution_count": null,
   "metadata": {},
   "outputs": [],
   "source": [
    "# Inputs and parameters\n",
    "inRas = ''\n",
    "outRas = ''"
   ]
  },
  {
   "cell_type": "code",
   "execution_count": null,
   "metadata": {},
   "outputs": [],
   "source": [
    "# Read raster to numpy array\n",
    "def tif2array(fname):\n",
    "    '''\n",
    "    Function to read a geotif straight in to a numpy array. Currently tested only for 1 band rasters\n",
    "    '''\n",
    "    myRaster=gdal.Open(fname)\n",
    "    transform = myRaster.GetGeoTransform()\n",
    "    dx = transform[1]\n",
    "    dy = transform[5]\n",
    "    Xsize = myRaster.RasterXSize\n",
    "    Ysize = myRaster.RasterYSize\n",
    "    xmin = transform[0]\n",
    "    xmax = xmin + dx*Xsize\n",
    "    ymax = transform[3]\n",
    "    ymin = ymax + dy*Ysize\n",
    "    data = myRaster.ReadAsArray(0, 0, Xsize, Ysize)\n",
    "    nodata = myRaster.GetRasterBand(1).GetNoDataValue()\n",
    "    myRaster = None\n",
    "    if nodata < -9000:\n",
    "        data[data < -9000] = np.nan\n",
    "    elif nodata > 9000:\n",
    "        data[data > 9000] = np.nan\n",
    "\n",
    "    return data, dx, dy, transform, Xsize, Ysize, xmin, xmax, ymin, ymax\n",
    "\n",
    "data, dx, dy, transform, Xsize, Ysize, xmin, xmax, ymin, ymax = tif2array(inRas)"
   ]
  },
  {
   "cell_type": "code",
   "execution_count": null,
   "metadata": {},
   "outputs": [],
   "source": [
    "# Visualize raster\n",
    "def plot_array(mat):\n",
    "    plt.figure()\n",
    "    plt.imshow(mat, origin='upper')\n",
    "    plt.colorbar()\n",
    "    plt.show()\n",
    "\n",
    "plot_array(data)"
   ]
  },
  {
   "cell_type": "code",
   "execution_count": null,
   "metadata": {},
   "outputs": [],
   "source": [
    "# Create mesh grid covering the domain of the data\n",
    "X,Y = np.meshgrid(np.arange(xmin, xmax, dx), np.arange(ymin, ymax, -dy))\n",
    "XX = X.flatten()\n",
    "YY = Y.flatten()"
   ]
  },
  {
   "cell_type": "code",
   "execution_count": null,
   "metadata": {},
   "outputs": [],
   "source": [
    "# Reshape the data\n",
    "X = np.reshape(XX, (-1, 1))\n",
    "Y = np.reshape(YY, (-1, 1))\n",
    "Z = np.reshape(data, (-1, 1))\n",
    "\n",
    "# Data prep for plane fitting\n",
    "coords = np.append(X, Y, axis=1)\n",
    "data_reg = np.append(coords, Z, axis=1)\n",
    "data_reg = data_reg[~np.isnan(data_reg).any(axis=1)]"
   ]
  },
  {
   "cell_type": "code",
   "execution_count": null,
   "metadata": {},
   "outputs": [],
   "source": [
    "# Fitting the linear plane\n",
    "A = np.c_[data_reg[:,0], data_reg[:,1], np.ones(data_reg.shape[0])]\n",
    "C,_,_,_ = lstsq(A, data_reg[:,2])    # coefficients"
   ]
  },
  {
   "cell_type": "code",
   "execution_count": null,
   "metadata": {},
   "outputs": [],
   "source": [
    "# Calculating residuals from grid plane\n",
    "Z_plane = np.dot(np.c_[XX, YY, np.ones(XX.shape)], C).reshape(X.shape) # OR Z_plane = C[0]*X + C[1]*Y + C[2]\n",
    "residuals = Z - Z_plane"
   ]
  },
  {
   "cell_type": "code",
   "execution_count": null,
   "metadata": {},
   "outputs": [],
   "source": [
    "# Rotating the plane (parallel)\n",
    "centroid = np.mean(Z_plane)\n",
    "m,n = np.shape(Z_plane)\n",
    "Z_flat = np.full((m, n), centroid)"
   ]
  },
  {
   "cell_type": "code",
   "execution_count": null,
   "metadata": {},
   "outputs": [],
   "source": [
    "# Adding to get detrended array\n",
    "Z_detr = residuals + Z_flat"
   ]
  },
  {
   "cell_type": "code",
   "execution_count": null,
   "metadata": {},
   "outputs": [],
   "source": [
    "# Reshape detrended raster\n",
    "Z_detr_reshape = Z_detr.reshape(Ysize, Xsize)"
   ]
  },
  {
   "cell_type": "code",
   "execution_count": null,
   "metadata": {},
   "outputs": [],
   "source": [
    "# Visualize raster\n",
    "def plot_array(mat):\n",
    "    plt.figure()\n",
    "    plt.imshow(mat, origin='upper')\n",
    "    plt.colorbar()\n",
    "    plt.show()\n",
    "\n",
    "plot_array(Z_detr_reshape)"
   ]
  },
  {
   "cell_type": "code",
   "execution_count": null,
   "metadata": {},
   "outputs": [],
   "source": [
    "# Save raster\n",
    "def saveArray2rasterTif(fname, array, rasterGeotransform, OutPath, _FillValue=-9999, epsg=25832, \n",
    "                        dataType='Float32', compression='LZW', flip_array=False):\n",
    "    '''\n",
    "    Save to a GeoTiff file the array\n",
    "    **saveArray2rasterTif(filename, transform, myArray, OutPath)**\n",
    "    S. Filhol\n",
    "    Dependencies: gdal, os, Tkinter, osr\n",
    "    :param fname:  string of the new file name\n",
    "    :param array: 2D/3D matrix containing the data to save as a raster file. if 3D array, the shape must be (nx,ny,bands).\n",
    "    :param rasterGeotransform: Raster geotransform (see gdal help): [Xmin, dx, 0, Ymax, 0, -dy]\n",
    "    :param _FillValue: default -9999\n",
    "    :param OutPath: optional. String indicating the path where to save the file \n",
    "    :param flip_array: flip the arras vertically. \n",
    "    :param epsg: projecton epsg code (change to own locale)\n",
    "    :return:\n",
    "    '''\n",
    "\n",
    "    cwd = os.getcwd()\n",
    "    os.chdir(OutPath)\n",
    "    cols = array.shape[1]\n",
    "    rows = array.shape[0]\n",
    "    if array.shape.__len__()==3:\n",
    "        bands = array.shape[2]\n",
    "    else:\n",
    "        bands = 1\n",
    "\n",
    "    if dataType == 'Float32':\n",
    "        dataType = gdal.GDT_Float64\n",
    "    elif dataType== 'Int32':\n",
    "        dataType = gdal.GDT_Int32\n",
    "    else:\n",
    "        dataType = gdal.GDT_Float64\n",
    "\n",
    "    if compression == 'LZW':\n",
    "        compress = ['COMPRESS=LZW']\n",
    "    elif compression == 'JPEG':\n",
    "        compress = ['COMPRESS=JPEG']\n",
    "    else:\n",
    "        compress = None\n",
    "\n",
    "    driver = gdal.GetDriverByName('GTiff')\n",
    "    outRaster = driver.Create(fname, cols, rows, bands, dataType, options=compress)\n",
    "    outRaster.SetGeoTransform(rasterGeotransform)\n",
    "    if bands>1:\n",
    "        for b in range(1,bands+1):\n",
    "            print('Saving band: ' + str(b))\n",
    "            outband = outRaster.GetRasterBand(b)\n",
    "            outband.SetNoDataValue(_FillValue)\n",
    "            if flip_array:\n",
    "                outband.WriteArray(np.flipud(array[:,:,b-1]))\n",
    "            else:\n",
    "                outband.WriteArray(array[:,:,b-1])\n",
    "                outband.FlushCache()\n",
    "    else:\n",
    "        outband = outRaster.GetRasterBand(1)\n",
    "        outband.SetNoDataValue(_FillValue)\n",
    "        if flip_array:\n",
    "            outband.WriteArray(np.flipud(array[:,:]))\n",
    "        else:\n",
    "            outband.WriteArray(array[:,:])\n",
    "            outband.FlushCache()\n",
    "    outRasterSRS = osr.SpatialReference()\n",
    "    outRasterSRS.ImportFromEPSG(epsg)\n",
    "    outRaster.SetProjection(outRasterSRS.ExportToWkt())\n",
    "    print('Array saved to raster')\n",
    "    os.chdir(cwd)\n",
    "\n",
    "saveArray2rasterTif(outRas, Z_detr_reshape, transform, os.getcwd(), _FillValue=-9999, epsg=25832, \n",
    "                        dataType='Float32', compression='LZW', flip_array=False)"
   ]
  }
 ],
 "metadata": {
  "kernelspec": {
   "display_name": "Python 3.10.6 ('gis')",
   "language": "python",
   "name": "python3"
  },
  "language_info": {
   "codemirror_mode": {
    "name": "ipython",
    "version": 3
   },
   "file_extension": ".py",
   "mimetype": "text/x-python",
   "name": "python",
   "nbconvert_exporter": "python",
   "pygments_lexer": "ipython3",
   "version": "3.10.6"
  },
  "orig_nbformat": 4,
  "vscode": {
   "interpreter": {
    "hash": "d88375da1316f63443897d78a40988f77c7ef4c5a8a60327c607eb017900dfd3"
   }
  }
 },
 "nbformat": 4,
 "nbformat_minor": 2
}
